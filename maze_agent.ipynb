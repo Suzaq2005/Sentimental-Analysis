{
  "nbformat": 4,
  "nbformat_minor": 0,
  "metadata": {
    "colab": {
      "provenance": [],
      "authorship_tag": "ABX9TyOv+QfKvAhsaMq3TBjeDxJ4",
      "include_colab_link": true
    },
    "kernelspec": {
      "name": "python3",
      "display_name": "Python 3"
    },
    "language_info": {
      "name": "python"
    }
  },
  "cells": [
    {
      "cell_type": "markdown",
      "metadata": {
        "id": "view-in-github",
        "colab_type": "text"
      },
      "source": [
        "<a href=\"https://colab.research.google.com/github/Suzaq2005/Sentimental-Analysis/blob/main/maze_agent.ipynb\" target=\"_parent\"><img src=\"https://colab.research.google.com/assets/colab-badge.svg\" alt=\"Open In Colab\"/></a>"
      ]
    },
    {
      "cell_type": "code",
      "source": [
        "import random\n"
      ],
      "metadata": {
        "id": "6OaJ_zUQe2tM"
      },
      "execution_count": 32,
      "outputs": []
    },
    {
      "cell_type": "code",
      "source": [
        "# Directions the agent can face\n",
        "DIRECTIONS = ['NORTH', 'EAST', 'SOUTH', 'WEST']"
      ],
      "metadata": {
        "id": "AISs81uqfHZx"
      },
      "execution_count": 33,
      "outputs": []
    },
    {
      "cell_type": "code",
      "source": [
        "# Movement mappings for directions (delta row, delta col)\n",
        "MOVES = {\n",
        "    'NORTH': (-1, 0),\n",
        "    'EAST': (0, 1),\n",
        "    'SOUTH': (1, 0),\n",
        "    'WEST': (0, -1)\n",
        "}"
      ],
      "metadata": {
        "id": "4VlNzwfAfMc_"
      },
      "execution_count": 34,
      "outputs": []
    },
    {
      "cell_type": "code",
      "source": [
        "# Sample maze (0 = open path, 1 = wall, 2 = exit)\n",
        "maze = [\n",
        "    [0, 0, 0, 0, 0],\n",
        "    [0, 0, 0, 1, 0],\n",
        "    [0, 0, 0, 1, 0],\n",
        "    [1, 0, 0, 0, 0],\n",
        "    [0, 0, 0, 1, 2]\n",
        "]"
      ],
      "metadata": {
        "id": "kUsp50eGiwQO"
      },
      "execution_count": 35,
      "outputs": []
    },
    {
      "cell_type": "code",
      "source": [
        "\n",
        "\n",
        "\n",
        "class ImprovedReactiveMazeAgent:\n",
        "    def __init__(self, maze, start):\n",
        "        self.maze = maze\n",
        "        self.position = start  # (row, col)\n",
        "        self.direction = 'NORTH'  # Initially facing north\n",
        "        self.visited = set()  # Keep track of visited cells\n",
        "        self.path_memory = []  # Memory of the path taken for backtracking\n",
        "        self.unvisited_stack = []  # Stack to keep track of unvisited cells\n",
        "\n",
        "    def move(self):\n",
        "        # Apply the behavioral rules to decide the next move\n",
        "\n",
        "        # Check for adjacent walls\n",
        "        left_dir = self.get_left_direction()\n",
        "        front_dir = self.direction\n",
        "        right_dir = self.get_right_direction()\n",
        "\n",
        "        # Prioritize unvisited cells if available\n",
        "        next_move = None\n",
        "        if not self.is_wall(self.look(left_dir)) and self.look(left_dir) not in self.visited:\n",
        "            next_move = left_dir\n",
        "        elif not self.is_wall(self.look(front_dir)) and self.look(front_dir) not in self.visited:\n",
        "            next_move = front_dir\n",
        "        elif not self.is_wall(self.look(right_dir)) and self.look(right_dir) not in self.visited:\n",
        "            next_move = right_dir\n",
        "\n",
        "        if next_move:\n",
        "            # Follow unvisited paths\n",
        "            if next_move == left_dir:\n",
        "                self.turn_left()\n",
        "            elif next_move == right_dir:\n",
        "                self.turn_right()\n",
        "            self.go_forward()\n",
        "        else:\n",
        "            # Backtrack if no new path available\n",
        "            self.retrace_steps()\n",
        "\n",
        "        # Update memory and visited positions\n",
        "        self.visited.add(self.position)\n",
        "        self.path_memory.append(self.position)\n",
        "\n",
        "    def look(self, direction):\n",
        "        \"\"\"Look in a specific direction and return the cell in that direction.\"\"\"\n",
        "        row, col = self.position\n",
        "        delta_row, delta_col = MOVES[direction]\n",
        "        return (row + delta_row, col + delta_col)\n",
        "\n",
        "    def is_wall(self, position):\n",
        "        \"\"\"Check if the given position is a wall or out of bounds.\"\"\"\n",
        "        row, col = position\n",
        "        if row < 0 or col < 0 or row >= len(self.maze) or col >= len(self.maze[0]):\n",
        "            return True\n",
        "        return self.maze[row][col] == 1\n",
        "\n",
        "    def go_forward(self):\n",
        "        \"\"\"Move forward in the current direction.\"\"\"\n",
        "        next_position = self.look(self.direction)\n",
        "        if not self.is_wall(next_position):\n",
        "            self.position = next_position\n",
        "\n",
        "    def turn_left(self):\n",
        "        \"\"\"Turn left relative to current direction.\"\"\"\n",
        "        current_index = DIRECTIONS.index(self.direction)\n",
        "        self.direction = DIRECTIONS[(current_index - 1) % 4]\n",
        "\n",
        "    def turn_right(self):\n",
        "        \"\"\"Turn right relative to current direction.\"\"\"\n",
        "        current_index = DIRECTIONS.index(self.direction)\n",
        "        self.direction = DIRECTIONS[(current_index + 1) % 4]\n",
        "\n",
        "    def get_left_direction(self):\n",
        "        \"\"\"Get the direction to the left relative to current direction.\"\"\"\n",
        "        current_index = DIRECTIONS.index(self.direction)\n",
        "        return DIRECTIONS[(current_index - 1) % 4]\n",
        "\n",
        "    def get_right_direction(self):\n",
        "        \"\"\"Get the direction to the right relative to current direction.\"\"\"\n",
        "        current_index = DIRECTIONS.index(self.direction)\n",
        "        return DIRECTIONS[(current_index + 1) % 4]\n",
        "\n",
        "    def retrace_steps(self):\n",
        "        \"\"\"Retrace steps towards unexplored areas.\"\"\"\n",
        "        if len(self.path_memory) > 1:\n",
        "            self.path_memory.pop()  # Remove current position from memory\n",
        "            self.position = self.path_memory[-1]  # Move to the previous position\n",
        "        else:\n",
        "            pass  # No more steps to retrace (edge case)\n",
        "\n",
        "    def detect_dynamic_changes(self):\n",
        "        \"\"\"Detect and respond to changes in the environment.\"\"\"\n",
        "        adjacent_positions = [self.look(dir) for dir in DIRECTIONS]\n",
        "        for pos in adjacent_positions:\n",
        "            if self.is_wall(pos) and pos in self.visited:\n",
        "                # Mark as dead-end if the path has become a wall\n",
        "                pass\n",
        "\n",
        "    def at_exit(self):\n",
        "        \"\"\"Check if the agent has reached the exit.\"\"\"\n",
        "        return self.maze[self.position[0]][self.position[1]] == 2\n",
        "\n",
        "    def run(self):\n",
        "        \"\"\"Run the agent until it finds the exit or gets stuck.\"\"\"\n",
        "        steps = 0  # Count the number of moves\n",
        "        while not self.at_exit():\n",
        "            self.move()\n",
        "            self.detect_dynamic_changes()  # Check for dynamic changes each move\n",
        "            steps += 1\n",
        "            if steps > 1000:  # Fail-safe in case the agent gets stuck in an infinite loop\n",
        "                print(\"Agent got stuck after 1000 moves\")\n",
        "                break\n",
        "        return self.position, steps\n",
        "\n",
        "# Create the agent and run with the new strategy\n",
        "improved_agent = ImprovedReactiveMazeAgent(maze, start=(0, 0))\n",
        "result_position, steps_taken = improved_agent.run()\n",
        "result_position, steps_taken\n"
      ],
      "metadata": {
        "colab": {
          "base_uri": "https://localhost:8080/"
        },
        "id": "cQZ6we37fV8j",
        "outputId": "9b6ae537-1434-417b-d4bb-1d8f0d10f67b"
      },
      "execution_count": 36,
      "outputs": [
        {
          "output_type": "execute_result",
          "data": {
            "text/plain": [
              "((4, 4), 8)"
            ]
          },
          "metadata": {},
          "execution_count": 36
        }
      ]
    }
  ]
}